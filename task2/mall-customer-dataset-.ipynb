{
 "cells": [
  {
   "cell_type": "code",
   "execution_count": 1,
   "id": "86adf13c",
   "metadata": {
    "execution": {
     "iopub.execute_input": "2023-07-31T12:13:10.938144Z",
     "iopub.status.busy": "2023-07-31T12:13:10.937728Z",
     "iopub.status.idle": "2023-07-31T12:13:12.416256Z",
     "shell.execute_reply": "2023-07-31T12:13:12.415257Z"
    },
    "papermill": {
     "duration": 1.495659,
     "end_time": "2023-07-31T12:13:12.419262",
     "exception": false,
     "start_time": "2023-07-31T12:13:10.923603",
     "status": "completed"
    },
    "tags": []
   },
   "outputs": [],
   "source": [
    "import pandas as pd\n",
    "import numpy as np\n",
    "import matplotlib.pyplot as plt\n",
    "%matplotlib inline\n",
    "import seaborn as sns\n",
    "import warnings"
   ]
  },
  {
   "cell_type": "code",
   "execution_count": 3,
   "id": "6c352beb",
   "metadata": {
    "execution": {
     "iopub.execute_input": "2023-07-31T12:13:12.450787Z",
     "iopub.status.busy": "2023-07-31T12:13:12.449683Z",
     "iopub.status.idle": "2023-07-31T12:13:12.491379Z",
     "shell.execute_reply": "2023-07-31T12:13:12.490027Z"
    },
    "papermill": {
     "duration": 0.061752,
     "end_time": "2023-07-31T12:13:12.494249",
     "exception": false,
     "start_time": "2023-07-31T12:13:12.432497",
     "status": "completed"
    },
    "tags": []
   },
   "outputs": [
    {
     "data": {
      "text/html": [
       "<div>\n",
       "<style scoped>\n",
       "    .dataframe tbody tr th:only-of-type {\n",
       "        vertical-align: middle;\n",
       "    }\n",
       "\n",
       "    .dataframe tbody tr th {\n",
       "        vertical-align: top;\n",
       "    }\n",
       "\n",
       "    .dataframe thead th {\n",
       "        text-align: right;\n",
       "    }\n",
       "</style>\n",
       "<table border=\"1\" class=\"dataframe\">\n",
       "  <thead>\n",
       "    <tr style=\"text-align: right;\">\n",
       "      <th></th>\n",
       "      <th>CustomerID</th>\n",
       "      <th>Genre</th>\n",
       "      <th>Age</th>\n",
       "      <th>Annual Income (k$)</th>\n",
       "      <th>Spending Score (1-100)</th>\n",
       "    </tr>\n",
       "  </thead>\n",
       "  <tbody>\n",
       "    <tr>\n",
       "      <th>0</th>\n",
       "      <td>1</td>\n",
       "      <td>Male</td>\n",
       "      <td>19</td>\n",
       "      <td>15</td>\n",
       "      <td>39</td>\n",
       "    </tr>\n",
       "    <tr>\n",
       "      <th>1</th>\n",
       "      <td>2</td>\n",
       "      <td>Male</td>\n",
       "      <td>21</td>\n",
       "      <td>15</td>\n",
       "      <td>81</td>\n",
       "    </tr>\n",
       "    <tr>\n",
       "      <th>2</th>\n",
       "      <td>3</td>\n",
       "      <td>Female</td>\n",
       "      <td>20</td>\n",
       "      <td>16</td>\n",
       "      <td>6</td>\n",
       "    </tr>\n",
       "    <tr>\n",
       "      <th>3</th>\n",
       "      <td>4</td>\n",
       "      <td>Female</td>\n",
       "      <td>23</td>\n",
       "      <td>16</td>\n",
       "      <td>77</td>\n",
       "    </tr>\n",
       "    <tr>\n",
       "      <th>4</th>\n",
       "      <td>5</td>\n",
       "      <td>Female</td>\n",
       "      <td>31</td>\n",
       "      <td>17</td>\n",
       "      <td>40</td>\n",
       "    </tr>\n",
       "  </tbody>\n",
       "</table>\n",
       "</div>"
      ],
      "text/plain": [
       "   CustomerID   Genre  Age  Annual Income (k$)  Spending Score (1-100)\n",
       "0           1    Male   19                  15                      39\n",
       "1           2    Male   21                  15                      81\n",
       "2           3  Female   20                  16                       6\n",
       "3           4  Female   23                  16                      77\n",
       "4           5  Female   31                  17                      40"
      ]
     },
     "execution_count": 3,
     "metadata": {},
     "output_type": "execute_result"
    }
   ],
   "source": [
    "df = pd.read_csv(r\"C:\\Users\\Roshan Salunke\\Downloads\\Data Science Course\\intersavvy\\2\\archive\\Mall_Customers.csv\")\n",
    "df.head()"
   ]
  },
  {
   "cell_type": "markdown",
   "id": "681272c2",
   "metadata": {
    "papermill": {
     "duration": 0.013175,
     "end_time": "2023-07-31T12:13:12.520957",
     "exception": false,
     "start_time": "2023-07-31T12:13:12.507782",
     "status": "completed"
    },
    "tags": []
   },
   "source": [
    "# EDA"
   ]
  },
  {
   "cell_type": "code",
   "execution_count": 4,
   "id": "479ebc56",
   "metadata": {
    "execution": {
     "iopub.execute_input": "2023-07-31T12:13:12.550343Z",
     "iopub.status.busy": "2023-07-31T12:13:12.549869Z",
     "iopub.status.idle": "2023-07-31T12:13:12.555829Z",
     "shell.execute_reply": "2023-07-31T12:13:12.554619Z"
    },
    "papermill": {
     "duration": 0.024263,
     "end_time": "2023-07-31T12:13:12.559040",
     "exception": false,
     "start_time": "2023-07-31T12:13:12.534777",
     "status": "completed"
    },
    "tags": []
   },
   "outputs": [
    {
     "name": "stdout",
     "output_type": "stream",
     "text": [
      "(200, 5)\n"
     ]
    }
   ],
   "source": [
    "print(df.shape)"
   ]
  },
  {
   "cell_type": "code",
   "execution_count": 5,
   "id": "f35e793c",
   "metadata": {
    "execution": {
     "iopub.execute_input": "2023-07-31T12:13:12.587992Z",
     "iopub.status.busy": "2023-07-31T12:13:12.587533Z",
     "iopub.status.idle": "2023-07-31T12:13:12.615753Z",
     "shell.execute_reply": "2023-07-31T12:13:12.614454Z"
    },
    "papermill": {
     "duration": 0.045864,
     "end_time": "2023-07-31T12:13:12.618394",
     "exception": false,
     "start_time": "2023-07-31T12:13:12.572530",
     "status": "completed"
    },
    "tags": []
   },
   "outputs": [
    {
     "name": "stdout",
     "output_type": "stream",
     "text": [
      "<class 'pandas.core.frame.DataFrame'>\n",
      "RangeIndex: 200 entries, 0 to 199\n",
      "Data columns (total 5 columns):\n",
      " #   Column                  Non-Null Count  Dtype \n",
      "---  ------                  --------------  ----- \n",
      " 0   CustomerID              200 non-null    int64 \n",
      " 1   Genre                   200 non-null    object\n",
      " 2   Age                     200 non-null    int64 \n",
      " 3   Annual Income (k$)      200 non-null    int64 \n",
      " 4   Spending Score (1-100)  200 non-null    int64 \n",
      "dtypes: int64(4), object(1)\n",
      "memory usage: 7.9+ KB\n"
     ]
    }
   ],
   "source": [
    "df.info()"
   ]
  },
  {
   "cell_type": "code",
   "execution_count": 6,
   "id": "e431ca93",
   "metadata": {
    "execution": {
     "iopub.execute_input": "2023-07-31T12:13:12.647881Z",
     "iopub.status.busy": "2023-07-31T12:13:12.647503Z",
     "iopub.status.idle": "2023-07-31T12:13:12.660142Z",
     "shell.execute_reply": "2023-07-31T12:13:12.658880Z"
    },
    "papermill": {
     "duration": 0.030619,
     "end_time": "2023-07-31T12:13:12.662511",
     "exception": false,
     "start_time": "2023-07-31T12:13:12.631892",
     "status": "completed"
    },
    "tags": []
   },
   "outputs": [
    {
     "data": {
      "text/plain": [
       "CustomerID                200\n",
       "Genre                       2\n",
       "Age                        51\n",
       "Annual Income (k$)         64\n",
       "Spending Score (1-100)     84\n",
       "dtype: int64"
      ]
     },
     "execution_count": 6,
     "metadata": {},
     "output_type": "execute_result"
    }
   ],
   "source": [
    "df.nunique()"
   ]
  },
  {
   "cell_type": "code",
   "execution_count": 7,
   "id": "6899e76b",
   "metadata": {
    "execution": {
     "iopub.execute_input": "2023-07-31T12:13:12.692827Z",
     "iopub.status.busy": "2023-07-31T12:13:12.692425Z",
     "iopub.status.idle": "2023-07-31T12:13:12.699298Z",
     "shell.execute_reply": "2023-07-31T12:13:12.698450Z"
    },
    "papermill": {
     "duration": 0.024835,
     "end_time": "2023-07-31T12:13:12.701454",
     "exception": false,
     "start_time": "2023-07-31T12:13:12.676619",
     "status": "completed"
    },
    "tags": []
   },
   "outputs": [
    {
     "data": {
      "text/plain": [
       "Index(['CustomerID', 'Genre', 'Age', 'Annual Income (k$)',\n",
       "       'Spending Score (1-100)'],\n",
       "      dtype='object')"
      ]
     },
     "execution_count": 7,
     "metadata": {},
     "output_type": "execute_result"
    }
   ],
   "source": [
    "df.columns"
   ]
  },
  {
   "cell_type": "code",
   "execution_count": 8,
   "id": "38bab470",
   "metadata": {
    "execution": {
     "iopub.execute_input": "2023-07-31T12:13:12.731893Z",
     "iopub.status.busy": "2023-07-31T12:13:12.731472Z",
     "iopub.status.idle": "2023-07-31T12:13:12.736256Z",
     "shell.execute_reply": "2023-07-31T12:13:12.735181Z"
    },
    "papermill": {
     "duration": 0.022419,
     "end_time": "2023-07-31T12:13:12.738512",
     "exception": false,
     "start_time": "2023-07-31T12:13:12.716093",
     "status": "completed"
    },
    "tags": []
   },
   "outputs": [],
   "source": [
    "cat_cols=['Genre']"
   ]
  },
  {
   "cell_type": "code",
   "execution_count": 9,
   "id": "1ba682fb",
   "metadata": {
    "execution": {
     "iopub.execute_input": "2023-07-31T12:13:12.768870Z",
     "iopub.status.busy": "2023-07-31T12:13:12.768445Z",
     "iopub.status.idle": "2023-07-31T12:13:12.773552Z",
     "shell.execute_reply": "2023-07-31T12:13:12.772275Z"
    },
    "papermill": {
     "duration": 0.023256,
     "end_time": "2023-07-31T12:13:12.775728",
     "exception": false,
     "start_time": "2023-07-31T12:13:12.752472",
     "status": "completed"
    },
    "tags": []
   },
   "outputs": [],
   "source": [
    "num_cols=['Age','Annual Income (k$)']"
   ]
  },
  {
   "cell_type": "code",
   "execution_count": 10,
   "id": "7d260377",
   "metadata": {
    "execution": {
     "iopub.execute_input": "2023-07-31T12:13:12.805598Z",
     "iopub.status.busy": "2023-07-31T12:13:12.805185Z",
     "iopub.status.idle": "2023-07-31T12:13:12.814506Z",
     "shell.execute_reply": "2023-07-31T12:13:12.813171Z"
    },
    "papermill": {
     "duration": 0.027329,
     "end_time": "2023-07-31T12:13:12.816995",
     "exception": false,
     "start_time": "2023-07-31T12:13:12.789666",
     "status": "completed"
    },
    "tags": []
   },
   "outputs": [],
   "source": [
    "df[cat_cols]=df[cat_cols].astype('category')"
   ]
  },
  {
   "cell_type": "code",
   "execution_count": 11,
   "id": "256c0287",
   "metadata": {
    "execution": {
     "iopub.execute_input": "2023-07-31T12:13:12.847159Z",
     "iopub.status.busy": "2023-07-31T12:13:12.846776Z",
     "iopub.status.idle": "2023-07-31T12:13:12.855615Z",
     "shell.execute_reply": "2023-07-31T12:13:12.854338Z"
    },
    "papermill": {
     "duration": 0.026979,
     "end_time": "2023-07-31T12:13:12.858061",
     "exception": false,
     "start_time": "2023-07-31T12:13:12.831082",
     "status": "completed"
    },
    "tags": []
   },
   "outputs": [
    {
     "data": {
      "text/plain": [
       "CustomerID                   int64\n",
       "Genre                     category\n",
       "Age                          int64\n",
       "Annual Income (k$)           int64\n",
       "Spending Score (1-100)       int64\n",
       "dtype: object"
      ]
     },
     "execution_count": 11,
     "metadata": {},
     "output_type": "execute_result"
    }
   ],
   "source": [
    "df.dtypes\n"
   ]
  },
  {
   "cell_type": "code",
   "execution_count": 12,
   "id": "4bbc7a83",
   "metadata": {
    "execution": {
     "iopub.execute_input": "2023-07-31T12:13:12.888167Z",
     "iopub.status.busy": "2023-07-31T12:13:12.887789Z",
     "iopub.status.idle": "2023-07-31T12:13:12.895575Z",
     "shell.execute_reply": "2023-07-31T12:13:12.894249Z"
    },
    "papermill": {
     "duration": 0.025961,
     "end_time": "2023-07-31T12:13:12.898079",
     "exception": false,
     "start_time": "2023-07-31T12:13:12.872118",
     "status": "completed"
    },
    "tags": []
   },
   "outputs": [],
   "source": [
    "# Drop the CustomerID column\n",
    "df = df.drop('CustomerID', axis=1)"
   ]
  },
  {
   "cell_type": "code",
   "execution_count": 13,
   "id": "776b53dc",
   "metadata": {
    "execution": {
     "iopub.execute_input": "2023-07-31T12:13:12.928403Z",
     "iopub.status.busy": "2023-07-31T12:13:12.928006Z",
     "iopub.status.idle": "2023-07-31T12:13:12.945522Z",
     "shell.execute_reply": "2023-07-31T12:13:12.944138Z"
    },
    "papermill": {
     "duration": 0.035951,
     "end_time": "2023-07-31T12:13:12.948121",
     "exception": false,
     "start_time": "2023-07-31T12:13:12.912170",
     "status": "completed"
    },
    "tags": []
   },
   "outputs": [
    {
     "data": {
      "text/html": [
       "<div>\n",
       "<style scoped>\n",
       "    .dataframe tbody tr th:only-of-type {\n",
       "        vertical-align: middle;\n",
       "    }\n",
       "\n",
       "    .dataframe tbody tr th {\n",
       "        vertical-align: top;\n",
       "    }\n",
       "\n",
       "    .dataframe thead th {\n",
       "        text-align: right;\n",
       "    }\n",
       "</style>\n",
       "<table border=\"1\" class=\"dataframe\">\n",
       "  <thead>\n",
       "    <tr style=\"text-align: right;\">\n",
       "      <th></th>\n",
       "      <th>Genre</th>\n",
       "      <th>Age</th>\n",
       "      <th>Annual Income (k$)</th>\n",
       "      <th>Spending Score (1-100)</th>\n",
       "    </tr>\n",
       "  </thead>\n",
       "  <tbody>\n",
       "    <tr>\n",
       "      <th>0</th>\n",
       "      <td>Male</td>\n",
       "      <td>19</td>\n",
       "      <td>15</td>\n",
       "      <td>39</td>\n",
       "    </tr>\n",
       "    <tr>\n",
       "      <th>1</th>\n",
       "      <td>Male</td>\n",
       "      <td>21</td>\n",
       "      <td>15</td>\n",
       "      <td>81</td>\n",
       "    </tr>\n",
       "    <tr>\n",
       "      <th>2</th>\n",
       "      <td>Female</td>\n",
       "      <td>20</td>\n",
       "      <td>16</td>\n",
       "      <td>6</td>\n",
       "    </tr>\n",
       "    <tr>\n",
       "      <th>3</th>\n",
       "      <td>Female</td>\n",
       "      <td>23</td>\n",
       "      <td>16</td>\n",
       "      <td>77</td>\n",
       "    </tr>\n",
       "    <tr>\n",
       "      <th>4</th>\n",
       "      <td>Female</td>\n",
       "      <td>31</td>\n",
       "      <td>17</td>\n",
       "      <td>40</td>\n",
       "    </tr>\n",
       "    <tr>\n",
       "      <th>...</th>\n",
       "      <td>...</td>\n",
       "      <td>...</td>\n",
       "      <td>...</td>\n",
       "      <td>...</td>\n",
       "    </tr>\n",
       "    <tr>\n",
       "      <th>195</th>\n",
       "      <td>Female</td>\n",
       "      <td>35</td>\n",
       "      <td>120</td>\n",
       "      <td>79</td>\n",
       "    </tr>\n",
       "    <tr>\n",
       "      <th>196</th>\n",
       "      <td>Female</td>\n",
       "      <td>45</td>\n",
       "      <td>126</td>\n",
       "      <td>28</td>\n",
       "    </tr>\n",
       "    <tr>\n",
       "      <th>197</th>\n",
       "      <td>Male</td>\n",
       "      <td>32</td>\n",
       "      <td>126</td>\n",
       "      <td>74</td>\n",
       "    </tr>\n",
       "    <tr>\n",
       "      <th>198</th>\n",
       "      <td>Male</td>\n",
       "      <td>32</td>\n",
       "      <td>137</td>\n",
       "      <td>18</td>\n",
       "    </tr>\n",
       "    <tr>\n",
       "      <th>199</th>\n",
       "      <td>Male</td>\n",
       "      <td>30</td>\n",
       "      <td>137</td>\n",
       "      <td>83</td>\n",
       "    </tr>\n",
       "  </tbody>\n",
       "</table>\n",
       "<p>200 rows × 4 columns</p>\n",
       "</div>"
      ],
      "text/plain": [
       "      Genre  Age  Annual Income (k$)  Spending Score (1-100)\n",
       "0      Male   19                  15                      39\n",
       "1      Male   21                  15                      81\n",
       "2    Female   20                  16                       6\n",
       "3    Female   23                  16                      77\n",
       "4    Female   31                  17                      40\n",
       "..      ...  ...                 ...                     ...\n",
       "195  Female   35                 120                      79\n",
       "196  Female   45                 126                      28\n",
       "197    Male   32                 126                      74\n",
       "198    Male   32                 137                      18\n",
       "199    Male   30                 137                      83\n",
       "\n",
       "[200 rows x 4 columns]"
      ]
     },
     "execution_count": 13,
     "metadata": {},
     "output_type": "execute_result"
    }
   ],
   "source": [
    "df"
   ]
  },
  {
   "cell_type": "code",
   "execution_count": 14,
   "id": "4a22937f",
   "metadata": {
    "execution": {
     "iopub.execute_input": "2023-07-31T12:13:12.979445Z",
     "iopub.status.busy": "2023-07-31T12:13:12.979011Z",
     "iopub.status.idle": "2023-07-31T12:13:16.181190Z",
     "shell.execute_reply": "2023-07-31T12:13:16.180212Z"
    },
    "papermill": {
     "duration": 3.221682,
     "end_time": "2023-07-31T12:13:16.184630",
     "exception": false,
     "start_time": "2023-07-31T12:13:12.962948",
     "status": "completed"
    },
    "tags": []
   },
   "outputs": [
    {
     "data": {
      "text/plain": [
       "<seaborn.axisgrid.PairGrid at 0x22c11a2dd60>"
      ]
     },
     "execution_count": 14,
     "metadata": {},
     "output_type": "execute_result"
    },
    {
     "data": {
      "image/png": "[encoded data removed]",
      "text/plain": [
       "<Figure size 750x750 with 12 Axes>"
      ]
     },
     "metadata": {},
     "output_type": "display_data"
    }
   ],
   "source": [
    "sns.pairplot(data=df)"
   ]
  },
  {
   "cell_type": "code",
   "execution_count": 15,
   "id": "78887b17",
   "metadata": {
    "execution": {
     "iopub.execute_input": "2023-07-31T12:13:16.222159Z",
     "iopub.status.busy": "2023-07-31T12:13:16.221742Z",
     "iopub.status.idle": "2023-07-31T12:13:16.233039Z",
     "shell.execute_reply": "2023-07-31T12:13:16.231966Z"
    },
    "papermill": {
     "duration": 0.033672,
     "end_time": "2023-07-31T12:13:16.235462",
     "exception": false,
     "start_time": "2023-07-31T12:13:16.201790",
     "status": "completed"
    },
    "tags": []
   },
   "outputs": [
    {
     "data": {
      "text/html": [
       "<div>\n",
       "<style scoped>\n",
       "    .dataframe tbody tr th:only-of-type {\n",
       "        vertical-align: middle;\n",
       "    }\n",
       "\n",
       "    .dataframe tbody tr th {\n",
       "        vertical-align: top;\n",
       "    }\n",
       "\n",
       "    .dataframe thead th {\n",
       "        text-align: right;\n",
       "    }\n",
       "</style>\n",
       "<table border=\"1\" class=\"dataframe\">\n",
       "  <thead>\n",
       "    <tr style=\"text-align: right;\">\n",
       "      <th></th>\n",
       "      <th>Annual Income (k$)</th>\n",
       "      <th>Spending Score (1-100)</th>\n",
       "    </tr>\n",
       "  </thead>\n",
       "  <tbody>\n",
       "    <tr>\n",
       "      <th>0</th>\n",
       "      <td>15</td>\n",
       "      <td>39</td>\n",
       "    </tr>\n",
       "    <tr>\n",
       "      <th>1</th>\n",
       "      <td>15</td>\n",
       "      <td>81</td>\n",
       "    </tr>\n",
       "    <tr>\n",
       "      <th>2</th>\n",
       "      <td>16</td>\n",
       "      <td>6</td>\n",
       "    </tr>\n",
       "    <tr>\n",
       "      <th>3</th>\n",
       "      <td>16</td>\n",
       "      <td>77</td>\n",
       "    </tr>\n",
       "    <tr>\n",
       "      <th>4</th>\n",
       "      <td>17</td>\n",
       "      <td>40</td>\n",
       "    </tr>\n",
       "  </tbody>\n",
       "</table>\n",
       "</div>"
      ],
      "text/plain": [
       "   Annual Income (k$)  Spending Score (1-100)\n",
       "0                  15                      39\n",
       "1                  15                      81\n",
       "2                  16                       6\n",
       "3                  16                      77\n",
       "4                  17                      40"
      ]
     },
     "execution_count": 15,
     "metadata": {},
     "output_type": "execute_result"
    }
   ],
   "source": [
    "X=df.drop(['Genre', 'Age'],axis=1)\n",
    "X.head()"
   ]
  },
  {
   "cell_type": "markdown",
   "id": "7d45f2e8",
   "metadata": {
    "papermill": {
     "duration": 0.016298,
     "end_time": "2023-07-31T12:13:16.269059",
     "exception": false,
     "start_time": "2023-07-31T12:13:16.252761",
     "status": "completed"
    },
    "tags": []
   },
   "source": [
    "# Modelling"
   ]
  },
  {
   "cell_type": "markdown",
   "id": "f94c3a6a",
   "metadata": {
    "papermill": {
     "duration": 0.016438,
     "end_time": "2023-07-31T12:13:16.302392",
     "exception": false,
     "start_time": "2023-07-31T12:13:16.285954",
     "status": "completed"
    },
    "tags": []
   },
   "source": [
    "## k-means clustering"
   ]
  },
  {
   "cell_type": "code",
   "execution_count": 16,
   "id": "4aa223e3",
   "metadata": {
    "execution": {
     "iopub.execute_input": "2023-07-31T12:13:16.339484Z",
     "iopub.status.busy": "2023-07-31T12:13:16.339027Z",
     "iopub.status.idle": "2023-07-31T12:13:17.276282Z",
     "shell.execute_reply": "2023-07-31T12:13:17.274945Z"
    },
    "papermill": {
     "duration": 0.959988,
     "end_time": "2023-07-31T12:13:17.279577",
     "exception": false,
     "start_time": "2023-07-31T12:13:16.319589",
     "status": "completed"
    },
    "tags": []
   },
   "outputs": [],
   "source": [
    "from sklearn.cluster import KMeans\n",
    "\n",
    "kmeans=KMeans(n_clusters=5,init=\"k-means++\",random_state=42)"
   ]
  },
  {
   "cell_type": "code",
   "execution_count": 17,
   "id": "a9d487a5",
   "metadata": {
    "execution": {
     "iopub.execute_input": "2023-07-31T12:13:17.315990Z",
     "iopub.status.busy": "2023-07-31T12:13:17.315483Z",
     "iopub.status.idle": "2023-07-31T12:13:17.415221Z",
     "shell.execute_reply": "2023-07-31T12:13:17.414091Z"
    },
    "papermill": {
     "duration": 0.121338,
     "end_time": "2023-07-31T12:13:17.418245",
     "exception": false,
     "start_time": "2023-07-31T12:13:17.296907",
     "status": "completed"
    },
    "tags": []
   },
   "outputs": [
    {
     "name": "stderr",
     "output_type": "stream",
     "text": [
      "C:\\Users\\Roshan Salunke\\anaconda3\\lib\\site-packages\\sklearn\\cluster\\_kmeans.py:1412: FutureWarning: The default value of `n_init` will change from 10 to 'auto' in 1.4. Set the value of `n_init` explicitly to suppress the warning\n",
      "  super()._check_params_vs_input(X, default_n_init=10)\n",
      "C:\\Users\\Roshan Salunke\\anaconda3\\lib\\site-packages\\sklearn\\cluster\\_kmeans.py:1436: UserWarning: KMeans is known to have a memory leak on Windows with MKL, when there are less chunks than available threads. You can avoid it by setting the environment variable OMP_NUM_THREADS=1.\n",
      "  warnings.warn(\n"
     ]
    }
   ],
   "source": [
    "y=kmeans.fit_predict(X)"
   ]
  },
  {
   "cell_type": "code",
   "execution_count": 18,
   "id": "977e0bac",
   "metadata": {
    "execution": {
     "iopub.execute_input": "2023-07-31T12:13:17.455548Z",
     "iopub.status.busy": "2023-07-31T12:13:17.455161Z",
     "iopub.status.idle": "2023-07-31T12:13:17.462755Z",
     "shell.execute_reply": "2023-07-31T12:13:17.461571Z"
    },
    "papermill": {
     "duration": 0.02856,
     "end_time": "2023-07-31T12:13:17.465188",
     "exception": false,
     "start_time": "2023-07-31T12:13:17.436628",
     "status": "completed"
    },
    "tags": []
   },
   "outputs": [
    {
     "data": {
      "text/plain": [
       "array([4, 2, 4, 2, 4, 2, 4, 2, 4, 2, 4, 2, 4, 2, 4, 2, 4, 2, 4, 2, 4, 2,\n",
       "       4, 2, 4, 2, 4, 2, 4, 2, 4, 2, 4, 2, 4, 2, 4, 2, 4, 2, 4, 2, 4, 0,\n",
       "       4, 2, 0, 0, 0, 0, 0, 0, 0, 0, 0, 0, 0, 0, 0, 0, 0, 0, 0, 0, 0, 0,\n",
       "       0, 0, 0, 0, 0, 0, 0, 0, 0, 0, 0, 0, 0, 0, 0, 0, 0, 0, 0, 0, 0, 0,\n",
       "       0, 0, 0, 0, 0, 0, 0, 0, 0, 0, 0, 0, 0, 0, 0, 0, 0, 0, 0, 0, 0, 0,\n",
       "       0, 0, 0, 0, 0, 0, 0, 0, 0, 0, 0, 0, 0, 1, 3, 1, 0, 1, 3, 1, 3, 1,\n",
       "       0, 1, 3, 1, 3, 1, 3, 1, 3, 1, 0, 1, 3, 1, 3, 1, 3, 1, 3, 1, 3, 1,\n",
       "       3, 1, 3, 1, 3, 1, 3, 1, 3, 1, 3, 1, 3, 1, 3, 1, 3, 1, 3, 1, 3, 1,\n",
       "       3, 1, 3, 1, 3, 1, 3, 1, 3, 1, 3, 1, 3, 1, 3, 1, 3, 1, 3, 1, 3, 1,\n",
       "       3, 1])"
      ]
     },
     "execution_count": 18,
     "metadata": {},
     "output_type": "execute_result"
    }
   ],
   "source": [
    "y"
   ]
  },
  {
   "cell_type": "code",
   "execution_count": 19,
   "id": "4a5c20fa",
   "metadata": {
    "execution": {
     "iopub.execute_input": "2023-07-31T12:13:17.500632Z",
     "iopub.status.busy": "2023-07-31T12:13:17.500196Z",
     "iopub.status.idle": "2023-07-31T12:13:17.505413Z",
     "shell.execute_reply": "2023-07-31T12:13:17.504349Z"
    },
    "papermill": {
     "duration": 0.025864,
     "end_time": "2023-07-31T12:13:17.507690",
     "exception": false,
     "start_time": "2023-07-31T12:13:17.481826",
     "status": "completed"
    },
    "tags": []
   },
   "outputs": [],
   "source": [
    "mall=df.copy()"
   ]
  },
  {
   "cell_type": "code",
   "execution_count": 20,
   "id": "e509b690",
   "metadata": {
    "execution": {
     "iopub.execute_input": "2023-07-31T12:13:17.546253Z",
     "iopub.status.busy": "2023-07-31T12:13:17.545766Z",
     "iopub.status.idle": "2023-07-31T12:13:17.551755Z",
     "shell.execute_reply": "2023-07-31T12:13:17.550536Z"
    },
    "papermill": {
     "duration": 0.029755,
     "end_time": "2023-07-31T12:13:17.554172",
     "exception": false,
     "start_time": "2023-07-31T12:13:17.524417",
     "status": "completed"
    },
    "tags": []
   },
   "outputs": [],
   "source": [
    "mall['Claster']=y"
   ]
  },
  {
   "cell_type": "code",
   "execution_count": 21,
   "id": "c8596a08",
   "metadata": {
    "execution": {
     "iopub.execute_input": "2023-07-31T12:13:17.590951Z",
     "iopub.status.busy": "2023-07-31T12:13:17.589793Z",
     "iopub.status.idle": "2023-07-31T12:13:17.603187Z",
     "shell.execute_reply": "2023-07-31T12:13:17.601984Z"
    },
    "papermill": {
     "duration": 0.034409,
     "end_time": "2023-07-31T12:13:17.605697",
     "exception": false,
     "start_time": "2023-07-31T12:13:17.571288",
     "status": "completed"
    },
    "tags": []
   },
   "outputs": [
    {
     "data": {
      "text/html": [
       "<div>\n",
       "<style scoped>\n",
       "    .dataframe tbody tr th:only-of-type {\n",
       "        vertical-align: middle;\n",
       "    }\n",
       "\n",
       "    .dataframe tbody tr th {\n",
       "        vertical-align: top;\n",
       "    }\n",
       "\n",
       "    .dataframe thead th {\n",
       "        text-align: right;\n",
       "    }\n",
       "</style>\n",
       "<table border=\"1\" class=\"dataframe\">\n",
       "  <thead>\n",
       "    <tr style=\"text-align: right;\">\n",
       "      <th></th>\n",
       "      <th>Genre</th>\n",
       "      <th>Age</th>\n",
       "      <th>Annual Income (k$)</th>\n",
       "      <th>Spending Score (1-100)</th>\n",
       "      <th>Claster</th>\n",
       "    </tr>\n",
       "  </thead>\n",
       "  <tbody>\n",
       "    <tr>\n",
       "      <th>0</th>\n",
       "      <td>Male</td>\n",
       "      <td>19</td>\n",
       "      <td>15</td>\n",
       "      <td>39</td>\n",
       "      <td>4</td>\n",
       "    </tr>\n",
       "    <tr>\n",
       "      <th>1</th>\n",
       "      <td>Male</td>\n",
       "      <td>21</td>\n",
       "      <td>15</td>\n",
       "      <td>81</td>\n",
       "      <td>2</td>\n",
       "    </tr>\n",
       "    <tr>\n",
       "      <th>2</th>\n",
       "      <td>Female</td>\n",
       "      <td>20</td>\n",
       "      <td>16</td>\n",
       "      <td>6</td>\n",
       "      <td>4</td>\n",
       "    </tr>\n",
       "    <tr>\n",
       "      <th>3</th>\n",
       "      <td>Female</td>\n",
       "      <td>23</td>\n",
       "      <td>16</td>\n",
       "      <td>77</td>\n",
       "      <td>2</td>\n",
       "    </tr>\n",
       "    <tr>\n",
       "      <th>4</th>\n",
       "      <td>Female</td>\n",
       "      <td>31</td>\n",
       "      <td>17</td>\n",
       "      <td>40</td>\n",
       "      <td>4</td>\n",
       "    </tr>\n",
       "  </tbody>\n",
       "</table>\n",
       "</div>"
      ],
      "text/plain": [
       "    Genre  Age  Annual Income (k$)  Spending Score (1-100)  Claster\n",
       "0    Male   19                  15                      39        4\n",
       "1    Male   21                  15                      81        2\n",
       "2  Female   20                  16                       6        4\n",
       "3  Female   23                  16                      77        2\n",
       "4  Female   31                  17                      40        4"
      ]
     },
     "execution_count": 21,
     "metadata": {},
     "output_type": "execute_result"
    }
   ],
   "source": [
    "mall.head()"
   ]
  },
  {
   "cell_type": "code",
   "execution_count": 22,
   "id": "fdf34e1e",
   "metadata": {
    "execution": {
     "iopub.execute_input": "2023-07-31T12:13:17.643728Z",
     "iopub.status.busy": "2023-07-31T12:13:17.642950Z",
     "iopub.status.idle": "2023-07-31T12:13:18.180495Z",
     "shell.execute_reply": "2023-07-31T12:13:18.178922Z"
    },
    "papermill": {
     "duration": 0.559673,
     "end_time": "2023-07-31T12:13:18.183246",
     "exception": false,
     "start_time": "2023-07-31T12:13:17.623573",
     "status": "completed"
    },
    "tags": []
   },
   "outputs": [
    {
     "data": {
      "text/plain": [
       "<AxesSubplot:xlabel='Annual Income (k$)', ylabel='Spending Score (1-100)'>"
      ]
     },
     "execution_count": 22,
     "metadata": {},
     "output_type": "execute_result"
    },
    {
     "data": {
      "image/png": "[encoded data removed]",
      "text/plain": [
       "<Figure size 640x480 with 1 Axes>"
      ]
     },
     "metadata": {},
     "output_type": "display_data"
    }
   ],
   "source": [
    "sns.scatterplot(x='Annual Income (k$)',y='Spending Score (1-100)',hue=kmeans.labels_,data=mall)"
   ]
  },
  {
   "cell_type": "markdown",
   "id": "12647f51",
   "metadata": {
    "papermill": {
     "duration": 0.017583,
     "end_time": "2023-07-31T12:13:18.219011",
     "exception": false,
     "start_time": "2023-07-31T12:13:18.201428",
     "status": "completed"
    },
    "tags": []
   },
   "source": [
    "## Finding the Optimal Number of Clusters"
   ]
  },
  {
   "cell_type": "code",
   "execution_count": 23,
   "id": "133c504b",
   "metadata": {
    "execution": {
     "iopub.execute_input": "2023-07-31T12:13:18.257320Z",
     "iopub.status.busy": "2023-07-31T12:13:18.256830Z",
     "iopub.status.idle": "2023-07-31T12:13:18.591327Z",
     "shell.execute_reply": "2023-07-31T12:13:18.590065Z"
    },
    "papermill": {
     "duration": 0.356771,
     "end_time": "2023-07-31T12:13:18.594130",
     "exception": false,
     "start_time": "2023-07-31T12:13:18.237359",
     "status": "completed"
    },
    "tags": []
   },
   "outputs": [
    {
     "name": "stderr",
     "output_type": "stream",
     "text": [
      "C:\\Users\\Roshan Salunke\\anaconda3\\lib\\site-packages\\sklearn\\cluster\\_kmeans.py:1412: FutureWarning: The default value of `n_init` will change from 10 to 'auto' in 1.4. Set the value of `n_init` explicitly to suppress the warning\n",
      "  super()._check_params_vs_input(X, default_n_init=10)\n",
      "C:\\Users\\Roshan Salunke\\anaconda3\\lib\\site-packages\\sklearn\\cluster\\_kmeans.py:1436: UserWarning: KMeans is known to have a memory leak on Windows with MKL, when there are less chunks than available threads. You can avoid it by setting the environment variable OMP_NUM_THREADS=1.\n",
      "  warnings.warn(\n",
      "C:\\Users\\Roshan Salunke\\anaconda3\\lib\\site-packages\\sklearn\\cluster\\_kmeans.py:1412: FutureWarning: The default value of `n_init` will change from 10 to 'auto' in 1.4. Set the value of `n_init` explicitly to suppress the warning\n",
      "  super()._check_params_vs_input(X, default_n_init=10)\n",
      "C:\\Users\\Roshan Salunke\\anaconda3\\lib\\site-packages\\sklearn\\cluster\\_kmeans.py:1436: UserWarning: KMeans is known to have a memory leak on Windows with MKL, when there are less chunks than available threads. You can avoid it by setting the environment variable OMP_NUM_THREADS=1.\n",
      "  warnings.warn(\n",
      "C:\\Users\\Roshan Salunke\\anaconda3\\lib\\site-packages\\sklearn\\cluster\\_kmeans.py:1412: FutureWarning: The default value of `n_init` will change from 10 to 'auto' in 1.4. Set the value of `n_init` explicitly to suppress the warning\n",
      "  super()._check_params_vs_input(X, default_n_init=10)\n",
      "C:\\Users\\Roshan Salunke\\anaconda3\\lib\\site-packages\\sklearn\\cluster\\_kmeans.py:1436: UserWarning: KMeans is known to have a memory leak on Windows with MKL, when there are less chunks than available threads. You can avoid it by setting the environment variable OMP_NUM_THREADS=1.\n",
      "  warnings.warn(\n",
      "C:\\Users\\Roshan Salunke\\anaconda3\\lib\\site-packages\\sklearn\\cluster\\_kmeans.py:1412: FutureWarning: The default value of `n_init` will change from 10 to 'auto' in 1.4. Set the value of `n_init` explicitly to suppress the warning\n",
      "  super()._check_params_vs_input(X, default_n_init=10)\n",
      "C:\\Users\\Roshan Salunke\\anaconda3\\lib\\site-packages\\sklearn\\cluster\\_kmeans.py:1436: UserWarning: KMeans is known to have a memory leak on Windows with MKL, when there are less chunks than available threads. You can avoid it by setting the environment variable OMP_NUM_THREADS=1.\n",
      "  warnings.warn(\n",
      "C:\\Users\\Roshan Salunke\\anaconda3\\lib\\site-packages\\sklearn\\cluster\\_kmeans.py:1412: FutureWarning: The default value of `n_init` will change from 10 to 'auto' in 1.4. Set the value of `n_init` explicitly to suppress the warning\n",
      "  super()._check_params_vs_input(X, default_n_init=10)\n",
      "C:\\Users\\Roshan Salunke\\anaconda3\\lib\\site-packages\\sklearn\\cluster\\_kmeans.py:1436: UserWarning: KMeans is known to have a memory leak on Windows with MKL, when there are less chunks than available threads. You can avoid it by setting the environment variable OMP_NUM_THREADS=1.\n",
      "  warnings.warn(\n",
      "C:\\Users\\Roshan Salunke\\anaconda3\\lib\\site-packages\\sklearn\\cluster\\_kmeans.py:1412: FutureWarning: The default value of `n_init` will change from 10 to 'auto' in 1.4. Set the value of `n_init` explicitly to suppress the warning\n",
      "  super()._check_params_vs_input(X, default_n_init=10)\n",
      "C:\\Users\\Roshan Salunke\\anaconda3\\lib\\site-packages\\sklearn\\cluster\\_kmeans.py:1436: UserWarning: KMeans is known to have a memory leak on Windows with MKL, when there are less chunks than available threads. You can avoid it by setting the environment variable OMP_NUM_THREADS=1.\n",
      "  warnings.warn(\n",
      "C:\\Users\\Roshan Salunke\\anaconda3\\lib\\site-packages\\sklearn\\cluster\\_kmeans.py:1412: FutureWarning: The default value of `n_init` will change from 10 to 'auto' in 1.4. Set the value of `n_init` explicitly to suppress the warning\n",
      "  super()._check_params_vs_input(X, default_n_init=10)\n",
      "C:\\Users\\Roshan Salunke\\anaconda3\\lib\\site-packages\\sklearn\\cluster\\_kmeans.py:1436: UserWarning: KMeans is known to have a memory leak on Windows with MKL, when there are less chunks than available threads. You can avoid it by setting the environment variable OMP_NUM_THREADS=1.\n",
      "  warnings.warn(\n",
      "C:\\Users\\Roshan Salunke\\anaconda3\\lib\\site-packages\\sklearn\\cluster\\_kmeans.py:1412: FutureWarning: The default value of `n_init` will change from 10 to 'auto' in 1.4. Set the value of `n_init` explicitly to suppress the warning\n",
      "  super()._check_params_vs_input(X, default_n_init=10)\n",
      "C:\\Users\\Roshan Salunke\\anaconda3\\lib\\site-packages\\sklearn\\cluster\\_kmeans.py:1436: UserWarning: KMeans is known to have a memory leak on Windows with MKL, when there are less chunks than available threads. You can avoid it by setting the environment variable OMP_NUM_THREADS=1.\n",
      "  warnings.warn(\n",
      "C:\\Users\\Roshan Salunke\\anaconda3\\lib\\site-packages\\sklearn\\cluster\\_kmeans.py:1412: FutureWarning: The default value of `n_init` will change from 10 to 'auto' in 1.4. Set the value of `n_init` explicitly to suppress the warning\n",
      "  super()._check_params_vs_input(X, default_n_init=10)\n",
      "C:\\Users\\Roshan Salunke\\anaconda3\\lib\\site-packages\\sklearn\\cluster\\_kmeans.py:1436: UserWarning: KMeans is known to have a memory leak on Windows with MKL, when there are less chunks than available threads. You can avoid it by setting the environment variable OMP_NUM_THREADS=1.\n",
      "  warnings.warn(\n",
      "C:\\Users\\Roshan Salunke\\anaconda3\\lib\\site-packages\\sklearn\\cluster\\_kmeans.py:1412: FutureWarning: The default value of `n_init` will change from 10 to 'auto' in 1.4. Set the value of `n_init` explicitly to suppress the warning\n",
      "  super()._check_params_vs_input(X, default_n_init=10)\n",
      "C:\\Users\\Roshan Salunke\\anaconda3\\lib\\site-packages\\sklearn\\cluster\\_kmeans.py:1436: UserWarning: KMeans is known to have a memory leak on Windows with MKL, when there are less chunks than available threads. You can avoid it by setting the environment variable OMP_NUM_THREADS=1.\n",
      "  warnings.warn(\n",
      "C:\\Users\\Roshan Salunke\\anaconda3\\lib\\site-packages\\sklearn\\cluster\\_kmeans.py:1412: FutureWarning: The default value of `n_init` will change from 10 to 'auto' in 1.4. Set the value of `n_init` explicitly to suppress the warning\n",
      "  super()._check_params_vs_input(X, default_n_init=10)\n",
      "C:\\Users\\Roshan Salunke\\anaconda3\\lib\\site-packages\\sklearn\\cluster\\_kmeans.py:1436: UserWarning: KMeans is known to have a memory leak on Windows with MKL, when there are less chunks than available threads. You can avoid it by setting the environment variable OMP_NUM_THREADS=1.\n",
      "  warnings.warn(\n",
      "C:\\Users\\Roshan Salunke\\anaconda3\\lib\\site-packages\\sklearn\\cluster\\_kmeans.py:1412: FutureWarning: The default value of `n_init` will change from 10 to 'auto' in 1.4. Set the value of `n_init` explicitly to suppress the warning\n",
      "  super()._check_params_vs_input(X, default_n_init=10)\n",
      "C:\\Users\\Roshan Salunke\\anaconda3\\lib\\site-packages\\sklearn\\cluster\\_kmeans.py:1436: UserWarning: KMeans is known to have a memory leak on Windows with MKL, when there are less chunks than available threads. You can avoid it by setting the environment variable OMP_NUM_THREADS=1.\n",
      "  warnings.warn(\n"
     ]
    },
    {
     "data": {
      "text/plain": [
       "[269981.28,\n",
       " 181363.595959596,\n",
       " 106348.37306211118,\n",
       " 73679.78903948836,\n",
       " 44448.45544793371,\n",
       " 37233.81451071001,\n",
       " 30241.34361793659,\n",
       " 25036.417604033984,\n",
       " 21916.794789843727,\n",
       " 20072.070939404006,\n",
       " 17511.7418692661,\n",
       " 15801.686992795057]"
      ]
     },
     "execution_count": 23,
     "metadata": {},
     "output_type": "execute_result"
    }
   ],
   "source": [
    "w=[]\n",
    "for i in range(1,13):\n",
    "    kmeans=KMeans(n_clusters=i,init=\"k-means++\",random_state=42)\n",
    "    kmeans.fit(X)\n",
    "    w.append(kmeans.inertia_)\n",
    "w"
   ]
  },
  {
   "cell_type": "code",
   "execution_count": 24,
   "id": "92b4dedc",
   "metadata": {
    "execution": {
     "iopub.execute_input": "2023-07-31T12:13:18.633886Z",
     "iopub.status.busy": "2023-07-31T12:13:18.633411Z",
     "iopub.status.idle": "2023-07-31T12:13:18.904408Z",
     "shell.execute_reply": "2023-07-31T12:13:18.903136Z"
    },
    "papermill": {
     "duration": 0.294122,
     "end_time": "2023-07-31T12:13:18.907127",
     "exception": false,
     "start_time": "2023-07-31T12:13:18.613005",
     "status": "completed"
    },
    "tags": []
   },
   "outputs": [
    {
     "data": {
      "text/plain": [
       "[<matplotlib.lines.Line2D at 0x22c156411c0>]"
      ]
     },
     "execution_count": 24,
     "metadata": {},
     "output_type": "execute_result"
    },
    {
     "data": {
      "image/png": "[encoded data removed]",
      "text/plain": [
       "<Figure size 640x480 with 1 Axes>"
      ]
     },
     "metadata": {},
     "output_type": "display_data"
    }
   ],
   "source": [
    "plt.plot(range(1,13),w)"
   ]
  },
  {
   "cell_type": "markdown",
   "id": "30f72af0",
   "metadata": {
    "papermill": {
     "duration": 0.019508,
     "end_time": "2023-07-31T12:13:18.946959",
     "exception": false,
     "start_time": "2023-07-31T12:13:18.927451",
     "status": "completed"
    },
    "tags": []
   },
   "source": [
    "## Hierarchical Clustering"
   ]
  },
  {
   "cell_type": "code",
   "execution_count": 25,
   "id": "e5f578b9",
   "metadata": {
    "execution": {
     "iopub.execute_input": "2023-07-31T12:13:18.988501Z",
     "iopub.status.busy": "2023-07-31T12:13:18.988109Z",
     "iopub.status.idle": "2023-07-31T12:13:19.001722Z",
     "shell.execute_reply": "2023-07-31T12:13:19.000362Z"
    },
    "papermill": {
     "duration": 0.037496,
     "end_time": "2023-07-31T12:13:19.004264",
     "exception": false,
     "start_time": "2023-07-31T12:13:18.966768",
     "status": "completed"
    },
    "tags": []
   },
   "outputs": [
    {
     "data": {
      "text/html": [
       "<div>\n",
       "<style scoped>\n",
       "    .dataframe tbody tr th:only-of-type {\n",
       "        vertical-align: middle;\n",
       "    }\n",
       "\n",
       "    .dataframe tbody tr th {\n",
       "        vertical-align: top;\n",
       "    }\n",
       "\n",
       "    .dataframe thead th {\n",
       "        text-align: right;\n",
       "    }\n",
       "</style>\n",
       "<table border=\"1\" class=\"dataframe\">\n",
       "  <thead>\n",
       "    <tr style=\"text-align: right;\">\n",
       "      <th></th>\n",
       "      <th>Annual Income (k$)</th>\n",
       "      <th>Spending Score (1-100)</th>\n",
       "    </tr>\n",
       "  </thead>\n",
       "  <tbody>\n",
       "    <tr>\n",
       "      <th>0</th>\n",
       "      <td>15</td>\n",
       "      <td>39</td>\n",
       "    </tr>\n",
       "    <tr>\n",
       "      <th>1</th>\n",
       "      <td>15</td>\n",
       "      <td>81</td>\n",
       "    </tr>\n",
       "    <tr>\n",
       "      <th>2</th>\n",
       "      <td>16</td>\n",
       "      <td>6</td>\n",
       "    </tr>\n",
       "    <tr>\n",
       "      <th>3</th>\n",
       "      <td>16</td>\n",
       "      <td>77</td>\n",
       "    </tr>\n",
       "    <tr>\n",
       "      <th>4</th>\n",
       "      <td>17</td>\n",
       "      <td>40</td>\n",
       "    </tr>\n",
       "    <tr>\n",
       "      <th>...</th>\n",
       "      <td>...</td>\n",
       "      <td>...</td>\n",
       "    </tr>\n",
       "    <tr>\n",
       "      <th>195</th>\n",
       "      <td>120</td>\n",
       "      <td>79</td>\n",
       "    </tr>\n",
       "    <tr>\n",
       "      <th>196</th>\n",
       "      <td>126</td>\n",
       "      <td>28</td>\n",
       "    </tr>\n",
       "    <tr>\n",
       "      <th>197</th>\n",
       "      <td>126</td>\n",
       "      <td>74</td>\n",
       "    </tr>\n",
       "    <tr>\n",
       "      <th>198</th>\n",
       "      <td>137</td>\n",
       "      <td>18</td>\n",
       "    </tr>\n",
       "    <tr>\n",
       "      <th>199</th>\n",
       "      <td>137</td>\n",
       "      <td>83</td>\n",
       "    </tr>\n",
       "  </tbody>\n",
       "</table>\n",
       "<p>200 rows × 2 columns</p>\n",
       "</div>"
      ],
      "text/plain": [
       "     Annual Income (k$)  Spending Score (1-100)\n",
       "0                    15                      39\n",
       "1                    15                      81\n",
       "2                    16                       6\n",
       "3                    16                      77\n",
       "4                    17                      40\n",
       "..                  ...                     ...\n",
       "195                 120                      79\n",
       "196                 126                      28\n",
       "197                 126                      74\n",
       "198                 137                      18\n",
       "199                 137                      83\n",
       "\n",
       "[200 rows x 2 columns]"
      ]
     },
     "execution_count": 25,
     "metadata": {},
     "output_type": "execute_result"
    }
   ],
   "source": [
    "X"
   ]
  },
  {
   "cell_type": "code",
   "execution_count": 26,
   "id": "0c66f6f5",
   "metadata": {
    "execution": {
     "iopub.execute_input": "2023-07-31T12:13:19.047712Z",
     "iopub.status.busy": "2023-07-31T12:13:19.047278Z",
     "iopub.status.idle": "2023-07-31T12:13:19.052528Z",
     "shell.execute_reply": "2023-07-31T12:13:19.051537Z"
    },
    "papermill": {
     "duration": 0.030117,
     "end_time": "2023-07-31T12:13:19.054771",
     "exception": false,
     "start_time": "2023-07-31T12:13:19.024654",
     "status": "completed"
    },
    "tags": []
   },
   "outputs": [],
   "source": [
    "HiCl = df.copy()"
   ]
  },
  {
   "cell_type": "code",
   "execution_count": 27,
   "id": "3e667be4",
   "metadata": {
    "execution": {
     "iopub.execute_input": "2023-07-31T12:13:19.100200Z",
     "iopub.status.busy": "2023-07-31T12:13:19.098904Z",
     "iopub.status.idle": "2023-07-31T12:13:19.110540Z",
     "shell.execute_reply": "2023-07-31T12:13:19.109749Z"
    },
    "papermill": {
     "duration": 0.036196,
     "end_time": "2023-07-31T12:13:19.112823",
     "exception": false,
     "start_time": "2023-07-31T12:13:19.076627",
     "status": "completed"
    },
    "tags": []
   },
   "outputs": [
    {
     "data": {
      "text/html": [
       "<div>\n",
       "<style scoped>\n",
       "    .dataframe tbody tr th:only-of-type {\n",
       "        vertical-align: middle;\n",
       "    }\n",
       "\n",
       "    .dataframe tbody tr th {\n",
       "        vertical-align: top;\n",
       "    }\n",
       "\n",
       "    .dataframe thead th {\n",
       "        text-align: right;\n",
       "    }\n",
       "</style>\n",
       "<table border=\"1\" class=\"dataframe\">\n",
       "  <thead>\n",
       "    <tr style=\"text-align: right;\">\n",
       "      <th></th>\n",
       "      <th>Genre</th>\n",
       "      <th>Age</th>\n",
       "      <th>Annual Income (k$)</th>\n",
       "      <th>Spending Score (1-100)</th>\n",
       "    </tr>\n",
       "  </thead>\n",
       "  <tbody>\n",
       "    <tr>\n",
       "      <th>0</th>\n",
       "      <td>Male</td>\n",
       "      <td>19</td>\n",
       "      <td>15</td>\n",
       "      <td>39</td>\n",
       "    </tr>\n",
       "    <tr>\n",
       "      <th>1</th>\n",
       "      <td>Male</td>\n",
       "      <td>21</td>\n",
       "      <td>15</td>\n",
       "      <td>81</td>\n",
       "    </tr>\n",
       "    <tr>\n",
       "      <th>2</th>\n",
       "      <td>Female</td>\n",
       "      <td>20</td>\n",
       "      <td>16</td>\n",
       "      <td>6</td>\n",
       "    </tr>\n",
       "    <tr>\n",
       "      <th>3</th>\n",
       "      <td>Female</td>\n",
       "      <td>23</td>\n",
       "      <td>16</td>\n",
       "      <td>77</td>\n",
       "    </tr>\n",
       "    <tr>\n",
       "      <th>4</th>\n",
       "      <td>Female</td>\n",
       "      <td>31</td>\n",
       "      <td>17</td>\n",
       "      <td>40</td>\n",
       "    </tr>\n",
       "  </tbody>\n",
       "</table>\n",
       "</div>"
      ],
      "text/plain": [
       "    Genre  Age  Annual Income (k$)  Spending Score (1-100)\n",
       "0    Male   19                  15                      39\n",
       "1    Male   21                  15                      81\n",
       "2  Female   20                  16                       6\n",
       "3  Female   23                  16                      77\n",
       "4  Female   31                  17                      40"
      ]
     },
     "execution_count": 27,
     "metadata": {},
     "output_type": "execute_result"
    }
   ],
   "source": [
    "HiCl.head()"
   ]
  },
  {
   "cell_type": "code",
   "execution_count": 28,
   "id": "1d3972c3",
   "metadata": {
    "execution": {
     "iopub.execute_input": "2023-07-31T12:13:19.155777Z",
     "iopub.status.busy": "2023-07-31T12:13:19.154906Z",
     "iopub.status.idle": "2023-07-31T12:13:19.160255Z",
     "shell.execute_reply": "2023-07-31T12:13:19.159100Z"
    },
    "papermill": {
     "duration": 0.029487,
     "end_time": "2023-07-31T12:13:19.162638",
     "exception": false,
     "start_time": "2023-07-31T12:13:19.133151",
     "status": "completed"
    },
    "tags": []
   },
   "outputs": [],
   "source": [
    "import scipy.cluster.hierarchy as sch"
   ]
  },
  {
   "cell_type": "code",
   "execution_count": 29,
   "id": "4d2a89c3",
   "metadata": {
    "execution": {
     "iopub.execute_input": "2023-07-31T12:13:19.205074Z",
     "iopub.status.busy": "2023-07-31T12:13:19.204663Z",
     "iopub.status.idle": "2023-07-31T12:13:22.578277Z",
     "shell.execute_reply": "2023-07-31T12:13:22.576817Z"
    },
    "papermill": {
     "duration": 3.397946,
     "end_time": "2023-07-31T12:13:22.581075",
     "exception": false,
     "start_time": "2023-07-31T12:13:19.183129",
     "status": "completed"
    },
    "tags": []
   },
   "outputs": [
    {
     "data": {
      "text/plain": [
       "Text(0, 0.5, 'Euclidean distances')"
      ]
     },
     "execution_count": 29,
     "metadata": {},
     "output_type": "execute_result"
    },
    {
     "data": {
      "image/png": "[encoded data removed]",
      "text/plain": [
       "<Figure size 2000x1000 with 1 Axes>"
      ]
     },
     "metadata": {},
     "output_type": "display_data"
    }
   ],
   "source": [
    "plt.figure(figsize=(20,10))\n",
    "dendrogram=sch.dendrogram(sch.linkage(X,method='ward'))\n",
    "plt.title(\"Dendrogram\")\n",
    "plt.xlabel(\"Customer\")\n",
    "plt.ylabel(\"Euclidean distances\")"
   ]
  },
  {
   "cell_type": "code",
   "execution_count": 30,
   "id": "dc5c8e03",
   "metadata": {
    "execution": {
     "iopub.execute_input": "2023-07-31T12:13:22.625438Z",
     "iopub.status.busy": "2023-07-31T12:13:22.625001Z",
     "iopub.status.idle": "2023-07-31T12:13:22.630485Z",
     "shell.execute_reply": "2023-07-31T12:13:22.629121Z"
    },
    "papermill": {
     "duration": 0.030759,
     "end_time": "2023-07-31T12:13:22.632916",
     "exception": false,
     "start_time": "2023-07-31T12:13:22.602157",
     "status": "completed"
    },
    "tags": []
   },
   "outputs": [],
   "source": [
    "from sklearn.cluster import AgglomerativeClustering"
   ]
  },
  {
   "cell_type": "code",
   "execution_count": 31,
   "id": "7bd31d94",
   "metadata": {
    "execution": {
     "iopub.execute_input": "2023-07-31T12:13:22.679450Z",
     "iopub.status.busy": "2023-07-31T12:13:22.679022Z",
     "iopub.status.idle": "2023-07-31T12:13:22.684452Z",
     "shell.execute_reply": "2023-07-31T12:13:22.683069Z"
    },
    "papermill": {
     "duration": 0.032582,
     "end_time": "2023-07-31T12:13:22.686845",
     "exception": false,
     "start_time": "2023-07-31T12:13:22.654263",
     "status": "completed"
    },
    "tags": []
   },
   "outputs": [],
   "source": [
    "clH=AgglomerativeClustering(n_clusters=5,affinity='euclidean',linkage='ward')"
   ]
  },
  {
   "cell_type": "code",
   "execution_count": 32,
   "id": "aa7771e4",
   "metadata": {
    "execution": {
     "iopub.execute_input": "2023-07-31T12:13:22.731336Z",
     "iopub.status.busy": "2023-07-31T12:13:22.730941Z",
     "iopub.status.idle": "2023-07-31T12:13:22.749850Z",
     "shell.execute_reply": "2023-07-31T12:13:22.748717Z"
    },
    "papermill": {
     "duration": 0.044053,
     "end_time": "2023-07-31T12:13:22.752064",
     "exception": false,
     "start_time": "2023-07-31T12:13:22.708011",
     "status": "completed"
    },
    "tags": []
   },
   "outputs": [
    {
     "name": "stderr",
     "output_type": "stream",
     "text": [
      "C:\\Users\\Roshan Salunke\\anaconda3\\lib\\site-packages\\sklearn\\cluster\\_agglomerative.py:1005: FutureWarning: Attribute `affinity` was deprecated in version 1.2 and will be removed in 1.4. Use `metric` instead\n",
      "  warnings.warn(\n"
     ]
    },
    {
     "data": {
      "text/html": [
       "<style>#sk-container-id-1 {color: black;}#sk-container-id-1 pre{padding: 0;}#sk-container-id-1 div.sk-toggleable {background-color: white;}#sk-container-id-1 label.sk-toggleable__label {cursor: pointer;display: block;width: 100%;margin-bottom: 0;padding: 0.3em;box-sizing: border-box;text-align: center;}#sk-container-id-1 label.sk-toggleable__label-arrow:before {content: \"▸\";float: left;margin-right: 0.25em;color: #696969;}#sk-container-id-1 label.sk-toggleable__label-arrow:hover:before {color: black;}#sk-container-id-1 div.sk-estimator:hover label.sk-toggleable__label-arrow:before {color: black;}#sk-container-id-1 div.sk-toggleable__content {max-height: 0;max-width: 0;overflow: hidden;text-align: left;background-color: #f0f8ff;}#sk-container-id-1 div.sk-toggleable__content pre {margin: 0.2em;color: black;border-radius: 0.25em;background-color: #f0f8ff;}#sk-container-id-1 input.sk-toggleable__control:checked~div.sk-toggleable__content {max-height: 200px;max-width: 100%;overflow: auto;}#sk-container-id-1 input.sk-toggleable__control:checked~label.sk-toggleable__label-arrow:before {content: \"▾\";}#sk-container-id-1 div.sk-estimator input.sk-toggleable__control:checked~label.sk-toggleable__label {background-color: #d4ebff;}#sk-container-id-1 div.sk-label input.sk-toggleable__control:checked~label.sk-toggleable__label {background-color: #d4ebff;}#sk-container-id-1 input.sk-hidden--visually {border: 0;clip: rect(1px 1px 1px 1px);clip: rect(1px, 1px, 1px, 1px);height: 1px;margin: -1px;overflow: hidden;padding: 0;position: absolute;width: 1px;}#sk-container-id-1 div.sk-estimator {font-family: monospace;background-color: #f0f8ff;border: 1px dotted black;border-radius: 0.25em;box-sizing: border-box;margin-bottom: 0.5em;}#sk-container-id-1 div.sk-estimator:hover {background-color: #d4ebff;}#sk-container-id-1 div.sk-parallel-item::after {content: \"\";width: 100%;border-bottom: 1px solid gray;flex-grow: 1;}#sk-container-id-1 div.sk-label:hover label.sk-toggleable__label {background-color: #d4ebff;}#sk-container-id-1 div.sk-serial::before {content: \"\";position: absolute;border-left: 1px solid gray;box-sizing: border-box;top: 0;bottom: 0;left: 50%;z-index: 0;}#sk-container-id-1 div.sk-serial {display: flex;flex-direction: column;align-items: center;background-color: white;padding-right: 0.2em;padding-left: 0.2em;position: relative;}#sk-container-id-1 div.sk-item {position: relative;z-index: 1;}#sk-container-id-1 div.sk-parallel {display: flex;align-items: stretch;justify-content: center;background-color: white;position: relative;}#sk-container-id-1 div.sk-item::before, #sk-container-id-1 div.sk-parallel-item::before {content: \"\";position: absolute;border-left: 1px solid gray;box-sizing: border-box;top: 0;bottom: 0;left: 50%;z-index: -1;}#sk-container-id-1 div.sk-parallel-item {display: flex;flex-direction: column;z-index: 1;position: relative;background-color: white;}#sk-container-id-1 div.sk-parallel-item:first-child::after {align-self: flex-end;width: 50%;}#sk-container-id-1 div.sk-parallel-item:last-child::after {align-self: flex-start;width: 50%;}#sk-container-id-1 div.sk-parallel-item:only-child::after {width: 0;}#sk-container-id-1 div.sk-dashed-wrapped {border: 1px dashed gray;margin: 0 0.4em 0.5em 0.4em;box-sizing: border-box;padding-bottom: 0.4em;background-color: white;}#sk-container-id-1 div.sk-label label {font-family: monospace;font-weight: bold;display: inline-block;line-height: 1.2em;}#sk-container-id-1 div.sk-label-container {text-align: center;}#sk-container-id-1 div.sk-container {/* jupyter's `normalize.less` sets `[hidden] { display: none; }` but bootstrap.min.css set `[hidden] { display: none !important; }` so we also need the `!important` here to be able to override the default hidden behavior on the sphinx rendered scikit-learn.org. See: https://github.com/scikit-learn/scikit-learn/issues/21755 */display: inline-block !important;position: relative;}#sk-container-id-1 div.sk-text-repr-fallback {display: none;}</style><div id=\"sk-container-id-1\" class=\"sk-top-container\"><div class=\"sk-text-repr-fallback\"><pre>AgglomerativeClustering(affinity=&#x27;euclidean&#x27;, n_clusters=5)</pre><b>In a Jupyter environment, please rerun this cell to show the HTML representation or trust the notebook. <br />On GitHub, the HTML representation is unable to render, please try loading this page with nbviewer.org.</b></div><div class=\"sk-container\" hidden><div class=\"sk-item\"><div class=\"sk-estimator sk-toggleable\"><input class=\"sk-toggleable__control sk-hidden--visually\" id=\"sk-estimator-id-1\" type=\"checkbox\" checked><label for=\"sk-estimator-id-1\" class=\"sk-toggleable__label sk-toggleable__label-arrow\">AgglomerativeClustering</label><div class=\"sk-toggleable__content\"><pre>AgglomerativeClustering(affinity=&#x27;euclidean&#x27;, n_clusters=5)</pre></div></div></div></div></div>"
      ],
      "text/plain": [
       "AgglomerativeClustering(affinity='euclidean', n_clusters=5)"
      ]
     },
     "execution_count": 32,
     "metadata": {},
     "output_type": "execute_result"
    }
   ],
   "source": [
    "clH.fit(X)"
   ]
  },
  {
   "cell_type": "code",
   "execution_count": 33,
   "id": "fd5f9ac7",
   "metadata": {
    "execution": {
     "iopub.execute_input": "2023-07-31T12:13:22.795933Z",
     "iopub.status.busy": "2023-07-31T12:13:22.795243Z",
     "iopub.status.idle": "2023-07-31T12:13:22.806249Z",
     "shell.execute_reply": "2023-07-31T12:13:22.805427Z"
    },
    "papermill": {
     "duration": 0.035773,
     "end_time": "2023-07-31T12:13:22.808688",
     "exception": false,
     "start_time": "2023-07-31T12:13:22.772915",
     "status": "completed"
    },
    "tags": []
   },
   "outputs": [
    {
     "name": "stderr",
     "output_type": "stream",
     "text": [
      "C:\\Users\\Roshan Salunke\\anaconda3\\lib\\site-packages\\sklearn\\cluster\\_agglomerative.py:1005: FutureWarning: Attribute `affinity` was deprecated in version 1.2 and will be removed in 1.4. Use `metric` instead\n",
      "  warnings.warn(\n"
     ]
    },
    {
     "data": {
      "text/plain": [
       "array([4, 3, 4, 3, 4, 3, 4, 3, 4, 3, 4, 3, 4, 3, 4, 3, 4, 3, 4, 3, 4, 3,\n",
       "       4, 3, 4, 3, 4, 3, 4, 3, 4, 3, 4, 3, 4, 3, 4, 3, 4, 3, 4, 3, 4, 1,\n",
       "       4, 1, 1, 1, 1, 1, 1, 1, 1, 1, 1, 1, 1, 1, 1, 1, 1, 1, 1, 1, 1, 1,\n",
       "       1, 1, 1, 1, 1, 1, 1, 1, 1, 1, 1, 1, 1, 1, 1, 1, 1, 1, 1, 1, 1, 1,\n",
       "       1, 1, 1, 1, 1, 1, 1, 1, 1, 1, 1, 1, 1, 1, 1, 1, 1, 1, 1, 1, 1, 1,\n",
       "       1, 1, 1, 1, 1, 1, 1, 1, 1, 1, 1, 1, 1, 2, 1, 2, 1, 2, 0, 2, 0, 2,\n",
       "       1, 2, 0, 2, 0, 2, 0, 2, 0, 2, 1, 2, 0, 2, 1, 2, 0, 2, 0, 2, 0, 2,\n",
       "       0, 2, 0, 2, 0, 2, 1, 2, 0, 2, 0, 2, 0, 2, 0, 2, 0, 2, 0, 2, 0, 2,\n",
       "       0, 2, 0, 2, 0, 2, 0, 2, 0, 2, 0, 2, 0, 2, 0, 2, 0, 2, 0, 2, 0, 2,\n",
       "       0, 2], dtype=int64)"
      ]
     },
     "execution_count": 33,
     "metadata": {},
     "output_type": "execute_result"
    }
   ],
   "source": [
    "yH=clH.fit_predict(X)\n",
    "yH"
   ]
  },
  {
   "cell_type": "code",
   "execution_count": 34,
   "id": "f4db7e8d",
   "metadata": {
    "execution": {
     "iopub.execute_input": "2023-07-31T12:13:22.853951Z",
     "iopub.status.busy": "2023-07-31T12:13:22.853256Z",
     "iopub.status.idle": "2023-07-31T12:13:22.858579Z",
     "shell.execute_reply": "2023-07-31T12:13:22.857629Z"
    },
    "papermill": {
     "duration": 0.031121,
     "end_time": "2023-07-31T12:13:22.860881",
     "exception": false,
     "start_time": "2023-07-31T12:13:22.829760",
     "status": "completed"
    },
    "tags": []
   },
   "outputs": [],
   "source": [
    "HiCl['Claster']=yH"
   ]
  },
  {
   "cell_type": "code",
   "execution_count": 35,
   "id": "9f0eed6a",
   "metadata": {
    "execution": {
     "iopub.execute_input": "2023-07-31T12:13:22.905293Z",
     "iopub.status.busy": "2023-07-31T12:13:22.904584Z",
     "iopub.status.idle": "2023-07-31T12:13:22.916775Z",
     "shell.execute_reply": "2023-07-31T12:13:22.915483Z"
    },
    "papermill": {
     "duration": 0.037898,
     "end_time": "2023-07-31T12:13:22.919660",
     "exception": false,
     "start_time": "2023-07-31T12:13:22.881762",
     "status": "completed"
    },
    "tags": []
   },
   "outputs": [
    {
     "data": {
      "text/html": [
       "<div>\n",
       "<style scoped>\n",
       "    .dataframe tbody tr th:only-of-type {\n",
       "        vertical-align: middle;\n",
       "    }\n",
       "\n",
       "    .dataframe tbody tr th {\n",
       "        vertical-align: top;\n",
       "    }\n",
       "\n",
       "    .dataframe thead th {\n",
       "        text-align: right;\n",
       "    }\n",
       "</style>\n",
       "<table border=\"1\" class=\"dataframe\">\n",
       "  <thead>\n",
       "    <tr style=\"text-align: right;\">\n",
       "      <th></th>\n",
       "      <th>Genre</th>\n",
       "      <th>Age</th>\n",
       "      <th>Annual Income (k$)</th>\n",
       "      <th>Spending Score (1-100)</th>\n",
       "      <th>Claster</th>\n",
       "    </tr>\n",
       "  </thead>\n",
       "  <tbody>\n",
       "    <tr>\n",
       "      <th>0</th>\n",
       "      <td>Male</td>\n",
       "      <td>19</td>\n",
       "      <td>15</td>\n",
       "      <td>39</td>\n",
       "      <td>4</td>\n",
       "    </tr>\n",
       "    <tr>\n",
       "      <th>1</th>\n",
       "      <td>Male</td>\n",
       "      <td>21</td>\n",
       "      <td>15</td>\n",
       "      <td>81</td>\n",
       "      <td>3</td>\n",
       "    </tr>\n",
       "    <tr>\n",
       "      <th>2</th>\n",
       "      <td>Female</td>\n",
       "      <td>20</td>\n",
       "      <td>16</td>\n",
       "      <td>6</td>\n",
       "      <td>4</td>\n",
       "    </tr>\n",
       "    <tr>\n",
       "      <th>3</th>\n",
       "      <td>Female</td>\n",
       "      <td>23</td>\n",
       "      <td>16</td>\n",
       "      <td>77</td>\n",
       "      <td>3</td>\n",
       "    </tr>\n",
       "    <tr>\n",
       "      <th>4</th>\n",
       "      <td>Female</td>\n",
       "      <td>31</td>\n",
       "      <td>17</td>\n",
       "      <td>40</td>\n",
       "      <td>4</td>\n",
       "    </tr>\n",
       "  </tbody>\n",
       "</table>\n",
       "</div>"
      ],
      "text/plain": [
       "    Genre  Age  Annual Income (k$)  Spending Score (1-100)  Claster\n",
       "0    Male   19                  15                      39        4\n",
       "1    Male   21                  15                      81        3\n",
       "2  Female   20                  16                       6        4\n",
       "3  Female   23                  16                      77        3\n",
       "4  Female   31                  17                      40        4"
      ]
     },
     "execution_count": 35,
     "metadata": {},
     "output_type": "execute_result"
    }
   ],
   "source": [
    "HiCl.head()"
   ]
  },
  {
   "cell_type": "code",
   "execution_count": 36,
   "id": "c4eabfeb",
   "metadata": {
    "execution": {
     "iopub.execute_input": "2023-07-31T12:13:22.967188Z",
     "iopub.status.busy": "2023-07-31T12:13:22.966725Z",
     "iopub.status.idle": "2023-07-31T12:13:23.514560Z",
     "shell.execute_reply": "2023-07-31T12:13:23.513540Z"
    },
    "papermill": {
     "duration": 0.574885,
     "end_time": "2023-07-31T12:13:23.516828",
     "exception": false,
     "start_time": "2023-07-31T12:13:22.941943",
     "status": "completed"
    },
    "tags": []
   },
   "outputs": [
    {
     "data": {
      "text/plain": [
       "<AxesSubplot:xlabel='Annual Income (k$)', ylabel='Spending Score (1-100)'>"
      ]
     },
     "execution_count": 36,
     "metadata": {},
     "output_type": "execute_result"
    },
    {
     "data": {
      "image/png": "[encoded data removed]",
      "text/plain": [
       "<Figure size 640x480 with 1 Axes>"
      ]
     },
     "metadata": {},
     "output_type": "display_data"
    }
   ],
   "source": [
    "sns.scatterplot(x='Annual Income (k$)',y='Spending Score (1-100)',hue=clH.labels_,data=HiCl)"
   ]
  },
  {
   "cell_type": "code",
   "execution_count": null,
   "id": "ba44a9ac",
   "metadata": {
    "papermill": {
     "duration": 0.022145,
     "end_time": "2023-07-31T12:13:23.561504",
     "exception": false,
     "start_time": "2023-07-31T12:13:23.539359",
     "status": "completed"
    },
    "tags": []
   },
   "outputs": [],
   "source": []
  },
  {
   "cell_type": "code",
   "execution_count": null,
   "id": "3227d114",
   "metadata": {},
   "outputs": [],
   "source": []
  }
 ],
 "metadata": {
  "kernelspec": {
   "display_name": "Python 3 (ipykernel)",
   "language": "python",
   "name": "python3"
  },
  "language_info": {
   "codemirror_mode": {
    "name": "ipython",
    "version": 3
   },
   "file_extension": ".py",
   "mimetype": "text/x-python",
   "name": "python",
   "nbconvert_exporter": "python",
   "pygments_lexer": "ipython3",
   "version": "3.9.7"
  },
  "papermill": {
   "default_parameters": {},
   "duration": 26.097083,
   "end_time": "2023-07-31T12:13:24.909677",
   "environment_variables": {},
   "exception": null,
   "input_path": "__notebook__.ipynb",
   "output_path": "__notebook__.ipynb",
   "parameters": {},
   "start_time": "2023-07-31T12:12:58.812594",
   "version": "2.4.0"
  }
 },
 "nbformat": 4,
 "nbformat_minor": 5
}
